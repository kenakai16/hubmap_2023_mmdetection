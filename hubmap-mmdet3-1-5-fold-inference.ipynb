{
 "cells": [
  {
   "cell_type": "markdown",
   "id": "7dcc63e0",
   "metadata": {
    "_cell_guid": "b1076dfc-b9ad-4769-8c92-a6c4dae69d19",
    "_uuid": "8f2839f25d086af736a60e9eeb907d3b93b6e0e5",
    "papermill": {
     "duration": 0.007928,
     "end_time": "2023-07-29T10:46:06.869425",
     "exception": false,
     "start_time": "2023-07-29T10:46:06.861497",
     "status": "completed"
    },
    "tags": []
   },
   "source": [
    "# Install Offline MMDetection"
   ]
  },
  {
   "cell_type": "code",
   "execution_count": 1,
   "id": "cab7c356",
   "metadata": {
    "execution": {
     "iopub.execute_input": "2023-07-29T10:46:06.885389Z",
     "iopub.status.busy": "2023-07-29T10:46:06.884618Z",
     "iopub.status.idle": "2023-07-29T10:49:09.166967Z",
     "shell.execute_reply": "2023-07-29T10:49:09.165700Z"
    },
    "papermill": {
     "duration": 182.29367,
     "end_time": "2023-07-29T10:49:09.170084",
     "exception": false,
     "start_time": "2023-07-29T10:46:06.876414",
     "status": "completed"
    },
    "tags": []
   },
   "outputs": [],
   "source": [
    "!pip install -qqq /kaggle/input/mmdetv3-env/archive/addict-2.4.0-py3-none-any.whl\n",
    "!pip install -qqq /kaggle/input/mmdetv3-env/archive/mmengine-0.7.4-py3-none-any.whl\n",
    "!pip install -qqq /kaggle/input/mmdetv3-env/archive/mmcv-2.0.0-cp310-cp310-linux_x86_64.whl\n",
    "!pip install -qqq /kaggle/input/mmdetv3-env/archive/terminaltables-3.1.10-py2.py3-none-any.whl\n",
    "!pip install -qqq /kaggle/input/pycocotools-206/wheels/pycocotools-2.0.6-cp310-cp310-linux_x86_64.whl\n",
    "!pip install -qqq /kaggle/input/weighted-boxes-fusion/ensemble_boxes-1.0.9-py3-none-any.whl"
   ]
  },
  {
   "cell_type": "code",
   "execution_count": 2,
   "id": "8f0415ca",
   "metadata": {
    "execution": {
     "iopub.execute_input": "2023-07-29T10:49:09.186145Z",
     "iopub.status.busy": "2023-07-29T10:49:09.185373Z",
     "iopub.status.idle": "2023-07-29T10:49:42.322774Z",
     "shell.execute_reply": "2023-07-29T10:49:42.321282Z"
    },
    "papermill": {
     "duration": 33.148249,
     "end_time": "2023-07-29T10:49:42.325614",
     "exception": false,
     "start_time": "2023-07-29T10:49:09.177365",
     "status": "completed"
    },
    "tags": []
   },
   "outputs": [],
   "source": [
    "!pip install -qqq /kaggle/input/mmdetection-3-1-evn/src/mmdet-3.1.0-py3-none-any.whl"
   ]
  },
  {
   "cell_type": "code",
   "execution_count": 3,
   "id": "a28c8842",
   "metadata": {
    "execution": {
     "iopub.execute_input": "2023-07-29T10:49:42.341572Z",
     "iopub.status.busy": "2023-07-29T10:49:42.341224Z",
     "iopub.status.idle": "2023-07-29T10:49:49.898347Z",
     "shell.execute_reply": "2023-07-29T10:49:49.896807Z"
    },
    "papermill": {
     "duration": 7.567751,
     "end_time": "2023-07-29T10:49:49.900777",
     "exception": false,
     "start_time": "2023-07-29T10:49:42.333026",
     "status": "completed"
    },
    "tags": []
   },
   "outputs": [
    {
     "name": "stderr",
     "output_type": "stream",
     "text": [
      "/opt/conda/lib/python3.10/site-packages/scipy/__init__.py:146: UserWarning: A NumPy version >=1.16.5 and <1.23.0 is required for this version of SciPy (detected version 1.23.5\n",
      "  warnings.warn(f\"A NumPy version >={np_minversion} and <{np_maxversion}\"\n"
     ]
    },
    {
     "name": "stdout",
     "output_type": "stream",
     "text": [
      "3.1.0\n",
      "2.0.0\n",
      "0.7.4\n"
     ]
    }
   ],
   "source": [
    "from itertools import groupby\n",
    "from pycocotools import mask as mutils\n",
    "from pycocotools.coco import COCO\n",
    "import numpy as np\n",
    "from tqdm.notebook import tqdm\n",
    "import pandas as pd\n",
    "import os\n",
    "import cv2\n",
    "import matplotlib.pyplot as plt\n",
    "import wandb\n",
    "from PIL import Image\n",
    "import gc\n",
    "\n",
    "from glob import glob\n",
    "import matplotlib.pyplot as plt\n",
    "\n",
    "\n",
    "import base64\n",
    "import numpy as np\n",
    "from pycocotools import _mask as coco_mask\n",
    "from typing import Text, Dict, Tuple\n",
    "import zlib\n",
    "\n",
    "import mmdet, mmcv, mmengine\n",
    "from mmengine.config import Config\n",
    "from mmengine.runner import Runner\n",
    "from mmdet.utils import register_all_modules\n",
    "from mmdet.apis import init_detector, inference_detector\n",
    "from mmengine.visualization import Visualizer\n",
    "\n",
    "\n",
    "print(mmdet.__version__)\n",
    "print(mmcv.__version__)\n",
    "print(mmengine.__version__)"
   ]
  },
  {
   "cell_type": "code",
   "execution_count": 4,
   "id": "b7e24dc0",
   "metadata": {
    "execution": {
     "iopub.execute_input": "2023-07-29T10:49:49.916405Z",
     "iopub.status.busy": "2023-07-29T10:49:49.916106Z",
     "iopub.status.idle": "2023-07-29T10:49:49.923808Z",
     "shell.execute_reply": "2023-07-29T10:49:49.922857Z"
    },
    "papermill": {
     "duration": 0.017789,
     "end_time": "2023-07-29T10:49:49.925894",
     "exception": false,
     "start_time": "2023-07-29T10:49:49.908105",
     "status": "completed"
    },
    "tags": []
   },
   "outputs": [],
   "source": [
    "import base64\n",
    "import numpy as np\n",
    "from pycocotools import _mask as coco_mask\n",
    "import typing as t\n",
    "import zlib\n",
    "\n",
    "def encode_binary_mask(mask: np.ndarray) -> Text:\n",
    "    \"\"\"Converts a binary mask into OID challenge encoding ascii text.\"\"\"\n",
    "\n",
    "    # check input mask --\n",
    "    if mask.dtype != np.bool:\n",
    "        raise ValueError(\n",
    "            \"encode_binary_mask expects a binary mask, received dtype == %s\" %\n",
    "            mask.dtype)\n",
    "\n",
    "    mask = np.squeeze(mask)\n",
    "    if len(mask.shape) != 2:\n",
    "        raise ValueError(\n",
    "            \"encode_binary_mask expects a 2d mask, received shape == %s\" %\n",
    "            mask.shape)\n",
    "\n",
    "    # convert input mask to expected COCO API input --\n",
    "    mask_to_encode = mask.reshape(mask.shape[0], mask.shape[1], 1)\n",
    "    mask_to_encode = mask_to_encode.astype(np.uint8)\n",
    "    mask_to_encode = np.asfortranarray(mask_to_encode)\n",
    "\n",
    "    # RLE encode mask --\n",
    "    encoded_mask = coco_mask.encode(mask_to_encode)[0][\"counts\"]\n",
    "\n",
    "    # compress and base64 encoding --\n",
    "    binary_str = zlib.compress(encoded_mask, zlib.Z_BEST_COMPRESSION)\n",
    "    base64_str = base64.b64encode(binary_str)\n",
    "    return base64_str"
   ]
  },
  {
   "cell_type": "code",
   "execution_count": 5,
   "id": "74d25547",
   "metadata": {
    "execution": {
     "iopub.execute_input": "2023-07-29T10:49:49.940997Z",
     "iopub.status.busy": "2023-07-29T10:49:49.940720Z",
     "iopub.status.idle": "2023-07-29T10:49:49.950358Z",
     "shell.execute_reply": "2023-07-29T10:49:49.946283Z"
    },
    "papermill": {
     "duration": 0.019739,
     "end_time": "2023-07-29T10:49:49.952655",
     "exception": false,
     "start_time": "2023-07-29T10:49:49.932916",
     "status": "completed"
    },
    "tags": []
   },
   "outputs": [],
   "source": [
    "def get_glomerulus_mask(annotations: Dict, mask_shape: Tuple = (512, 512)) -> np.ndarray:\n",
    "    \"\"\" Converts glomerulus labels into boolean mask \"\"\"\n",
    "    mask = np.ones(shape=mask_shape, dtype=np.uint8)\n",
    "    \n",
    "    for annotation in annotations: \n",
    "        if annotation['type'] == 'glomerulus':            \n",
    "            coords = np.array(annotation['coordinates'])\n",
    "            cv2.fillPoly(mask, pts=coords, color=0)\n",
    "\n",
    "    return mask.astype(bool)\n",
    "    \n"
   ]
  },
  {
   "cell_type": "code",
   "execution_count": 6,
   "id": "f713e19b",
   "metadata": {
    "execution": {
     "iopub.execute_input": "2023-07-29T10:49:49.967970Z",
     "iopub.status.busy": "2023-07-29T10:49:49.967703Z",
     "iopub.status.idle": "2023-07-29T10:49:49.973353Z",
     "shell.execute_reply": "2023-07-29T10:49:49.972365Z"
    },
    "papermill": {
     "duration": 0.015812,
     "end_time": "2023-07-29T10:49:49.975390",
     "exception": false,
     "start_time": "2023-07-29T10:49:49.959578",
     "status": "completed"
    },
    "tags": []
   },
   "outputs": [],
   "source": [
    "def morphological_gradient(binary_mask):\n",
    "    \"\"\"Áp dụng phép toán Morphological Gradient trên binary mask.\n",
    "    binary_mask: Binary mask có giá trị 0 hoặc 255.\n",
    "\n",
    "    Returns:\n",
    "    - gradient: Kết quả Morphological Gradient.\n",
    "    \"\"\"\n",
    "    # Chuyển đổi binary mask về kiểu dữ liệu uint8 nếu cần thiết\n",
    "    if binary_mask.dtype != np.uint8:\n",
    "        binary_mask = binary_mask.astype(np.uint8)\n",
    "\n",
    "    # Áp dụng phép toán Morphological Gradient\n",
    "    kernel = cv2.getStructuringElement(cv2.MORPH_ELLIPSE, (5, 5))  # Kích thước kernel\n",
    "    gradient = cv2.morphologyEx(binary_mask, cv2.MORPH_GRADIENT, kernel)\n",
    "\n",
    "    return gradient\n",
    "\n"
   ]
  },
  {
   "cell_type": "code",
   "execution_count": 7,
   "id": "6c293c33",
   "metadata": {
    "execution": {
     "iopub.execute_input": "2023-07-29T10:49:49.990734Z",
     "iopub.status.busy": "2023-07-29T10:49:49.990469Z",
     "iopub.status.idle": "2023-07-29T10:49:49.995184Z",
     "shell.execute_reply": "2023-07-29T10:49:49.994282Z"
    },
    "papermill": {
     "duration": 0.014881,
     "end_time": "2023-07-29T10:49:49.997215",
     "exception": false,
     "start_time": "2023-07-29T10:49:49.982334",
     "status": "completed"
    },
    "tags": []
   },
   "outputs": [],
   "source": [
    "def convert_to_binary_mask(mask):\n",
    "    \"\"\"Chuyển đổi mask sang dạng binary mask True/False.\n",
    "    mask: Mask có giá trị 0/255.\n",
    "\n",
    "    Returns:\n",
    "    - binary_mask: Binary mask dạng True/False.\n",
    "    \"\"\"\n",
    "    binary_mask = (mask > 0)\n",
    "    return binary_mask"
   ]
  },
  {
   "cell_type": "code",
   "execution_count": 8,
   "id": "7238cd75",
   "metadata": {
    "execution": {
     "iopub.execute_input": "2023-07-29T10:49:50.012729Z",
     "iopub.status.busy": "2023-07-29T10:49:50.011962Z",
     "iopub.status.idle": "2023-07-29T10:49:50.017065Z",
     "shell.execute_reply": "2023-07-29T10:49:50.016175Z"
    },
    "papermill": {
     "duration": 0.015012,
     "end_time": "2023-07-29T10:49:50.019135",
     "exception": false,
     "start_time": "2023-07-29T10:49:50.004123",
     "status": "completed"
    },
    "tags": []
   },
   "outputs": [],
   "source": [
    "def convert_to_mask(binary_mask):\n",
    "    \"\"\"Chuyển đổi binary mask sang dạng mask 0/255.\n",
    "    binary_mask: Binary mask dạng True/False.\n",
    "\n",
    "    Returns:\n",
    "    - mask: Mask có giá trị 0/255.\n",
    "    \"\"\"\n",
    "    mask = binary_mask.astype(np.uint8) * 255\n",
    "    return mask"
   ]
  },
  {
   "cell_type": "code",
   "execution_count": 9,
   "id": "9280236b",
   "metadata": {
    "execution": {
     "iopub.execute_input": "2023-07-29T10:49:50.034475Z",
     "iopub.status.busy": "2023-07-29T10:49:50.033948Z",
     "iopub.status.idle": "2023-07-29T10:49:50.983727Z",
     "shell.execute_reply": "2023-07-29T10:49:50.982390Z"
    },
    "papermill": {
     "duration": 0.960117,
     "end_time": "2023-07-29T10:49:50.986256",
     "exception": false,
     "start_time": "2023-07-29T10:49:50.026139",
     "status": "completed"
    },
    "tags": []
   },
   "outputs": [],
   "source": [
    "%mkdir work_dir_test"
   ]
  },
  {
   "cell_type": "code",
   "execution_count": 10,
   "id": "eb3b7e00",
   "metadata": {
    "execution": {
     "iopub.execute_input": "2023-07-29T10:49:51.002814Z",
     "iopub.status.busy": "2023-07-29T10:49:51.001927Z",
     "iopub.status.idle": "2023-07-29T10:49:51.007574Z",
     "shell.execute_reply": "2023-07-29T10:49:51.006709Z"
    },
    "papermill": {
     "duration": 0.016023,
     "end_time": "2023-07-29T10:49:51.009638",
     "exception": false,
     "start_time": "2023-07-29T10:49:50.993615",
     "status": "completed"
    },
    "tags": []
   },
   "outputs": [],
   "source": [
    "import mmcv\n",
    "from mmdet.apis import inference_detector, init_detector\n",
    "import albumentations as A\n",
    "import torch\n",
    "# from ensemble_boxes import *\n",
    "import itertools"
   ]
  },
  {
   "cell_type": "code",
   "execution_count": 11,
   "id": "5f545ae2",
   "metadata": {
    "execution": {
     "iopub.execute_input": "2023-07-29T10:49:51.025483Z",
     "iopub.status.busy": "2023-07-29T10:49:51.024724Z",
     "iopub.status.idle": "2023-07-29T10:49:58.804087Z",
     "shell.execute_reply": "2023-07-29T10:49:58.802968Z"
    },
    "papermill": {
     "duration": 7.790095,
     "end_time": "2023-07-29T10:49:58.806648",
     "exception": false,
     "start_time": "2023-07-29T10:49:51.016553",
     "status": "completed"
    },
    "tags": []
   },
   "outputs": [
    {
     "name": "stderr",
     "output_type": "stream",
     "text": [
      "/opt/conda/lib/python3.10/site-packages/tensorflow_io/python/ops/__init__.py:98: UserWarning: unable to load libtensorflow_io_plugins.so: unable to open file: libtensorflow_io_plugins.so, from paths: ['/opt/conda/lib/python3.10/site-packages/tensorflow_io/python/ops/libtensorflow_io_plugins.so']\n",
      "caused by: ['/opt/conda/lib/python3.10/site-packages/tensorflow_io/python/ops/libtensorflow_io_plugins.so: undefined symbol: _ZN3tsl6StatusC1EN10tensorflow5error4CodeESt17basic_string_viewIcSt11char_traitsIcEENS_14SourceLocationE']\n",
      "  warnings.warn(f\"unable to load libtensorflow_io_plugins.so: {e}\")\n",
      "/opt/conda/lib/python3.10/site-packages/tensorflow_io/python/ops/__init__.py:104: UserWarning: file system plugins are not loaded: unable to open file: libtensorflow_io.so, from paths: ['/opt/conda/lib/python3.10/site-packages/tensorflow_io/python/ops/libtensorflow_io.so']\n",
      "caused by: ['/opt/conda/lib/python3.10/site-packages/tensorflow_io/python/ops/libtensorflow_io.so: undefined symbol: _ZTVN10tensorflow13GcsFileSystemE']\n",
      "  warnings.warn(f\"file system plugins are not loaded: {e}\")\n"
     ]
    }
   ],
   "source": [
    "import sys\n",
    "import os\n",
    "import math\n",
    "import random\n",
    "import numpy as np\n",
    "import tensorflow as tf\n",
    "import scipy.misc\n",
    "import skimage.color\n",
    "import skimage.io\n",
    "import urllib.request\n",
    "import shutil\n",
    "\n",
    "# URL from which to download the latest COCO trained weights\n",
    "COCO_MODEL_URL = \"https://github.com/matterport/Mask_RCNN/releases/download/v2.0/mask_rcnn_coco.h5\"\n",
    "\n",
    "\n",
    "############################################################\n",
    "#  Bounding Boxes\n",
    "############################################################\n",
    "\n",
    "def extract_bboxes(mask):\n",
    "    \"\"\"Compute bounding boxes from masks.\n",
    "    mask: [height, width, num_instances]. Mask pixels are either 1 or 0.\n",
    "\n",
    "    Returns: bbox array [num_instances, (y1, x1, y2, x2)].\n",
    "    \"\"\"\n",
    "    boxes = np.zeros([mask.shape[-1], 4], dtype=np.int32)\n",
    "    for i in range(mask.shape[-1]):\n",
    "        m = mask[:, :, i]\n",
    "        # Bounding box.\n",
    "        horizontal_indicies = np.where(np.any(m, axis=0))[0]\n",
    "        vertical_indicies = np.where(np.any(m, axis=1))[0]\n",
    "        if horizontal_indicies.shape[0]:\n",
    "            x1, x2 = horizontal_indicies[[0, -1]]\n",
    "            y1, y2 = vertical_indicies[[0, -1]]\n",
    "            # x2 and y2 should not be part of the box. Increment by 1.\n",
    "            x2 += 1\n",
    "            y2 += 1\n",
    "        else:\n",
    "            # No mask for this instance. Might happen due to\n",
    "            # resizing or cropping. Set bbox to zeros\n",
    "            x1, x2, y1, y2 = 0, 0, 0, 0\n",
    "        boxes[i] = np.array([y1, x1, y2, x2])\n",
    "    return boxes.astype(np.int32)\n",
    "\n",
    "\n",
    "def compute_iou(box, boxes, box_area, boxes_area):\n",
    "    \"\"\"Calculates IoU of the given box with the array of the given boxes.\n",
    "    box: 1D vector [y1, x1, y2, x2]\n",
    "    boxes: [boxes_count, (y1, x1, y2, x2)]\n",
    "    box_area: float. the area of 'box'\n",
    "    boxes_area: array of length boxes_count.\n",
    "\n",
    "    Note: the areas are passed in rather than calculated here for\n",
    "          efficency. Calculate once in the caller to avoid duplicate work.\n",
    "    \"\"\"\n",
    "    # Calculate intersection areas\n",
    "    y1 = np.maximum(box[0], boxes[:, 0])\n",
    "    y2 = np.minimum(box[2], boxes[:, 2])\n",
    "    x1 = np.maximum(box[1], boxes[:, 1])\n",
    "    x2 = np.minimum(box[3], boxes[:, 3])\n",
    "    intersection = np.maximum(x2 - x1, 0) * np.maximum(y2 - y1, 0)\n",
    "    union = box_area + boxes_area[:] - intersection[:]\n",
    "    iou = intersection / union\n",
    "    return iou\n",
    "\n",
    "\n",
    "def compute_overlaps(boxes1, boxes2):\n",
    "    \"\"\"Computes IoU overlaps between two sets of boxes.\n",
    "    boxes1, boxes2: [N, (y1, x1, y2, x2)].\n",
    "\n",
    "    For better performance, pass the largest set first and the smaller second.\n",
    "    \"\"\"\n",
    "    # Areas of anchors and GT boxes\n",
    "    area1 = (boxes1[:, 2] - boxes1[:, 0]) * (boxes1[:, 3] - boxes1[:, 1])\n",
    "    area2 = (boxes2[:, 2] - boxes2[:, 0]) * (boxes2[:, 3] - boxes2[:, 1])\n",
    "\n",
    "    # Compute overlaps to generate matrix [boxes1 count, boxes2 count]\n",
    "    # Each cell contains the IoU value.\n",
    "    overlaps = np.zeros((boxes1.shape[0], boxes2.shape[0]))\n",
    "    for i in range(overlaps.shape[1]):\n",
    "        box2 = boxes2[i]\n",
    "        overlaps[:, i] = compute_iou(box2, boxes1, area2[i], area1)\n",
    "    return overlaps\n",
    "\n",
    "\n",
    "def compute_overlaps_masks(masks1, masks2):\n",
    "    '''Computes IoU overlaps between two sets of masks.\n",
    "    masks1, masks2: [Height, Width, instances]\n",
    "    '''\n",
    "    # flatten masks\n",
    "    masks1 = np.reshape(masks1 > .5, (-1, masks1.shape[-1])).astype(np.float32)\n",
    "    masks2 = np.reshape(masks2 > .5, (-1, masks2.shape[-1])).astype(np.float32)\n",
    "    area1 = np.sum(masks1, axis=0)\n",
    "    area2 = np.sum(masks2, axis=0)\n",
    "\n",
    "    # intersections and union\n",
    "    intersections = np.dot(masks1.T, masks2)\n",
    "    union = area1[:, None] + area2[None, :] - intersections\n",
    "    overlaps = intersections / union\n",
    "\n",
    "    return overlaps\n",
    "\n",
    "\n",
    "def non_max_suppression(boxes, scores, threshold):\n",
    "    \"\"\"Performs non-maximum supression and returns indicies of kept boxes.\n",
    "    boxes: [N, (y1, x1, y2, x2)]. Notice that (y2, x2) lays outside the box.\n",
    "    scores: 1-D array of box scores.\n",
    "    threshold: Float. IoU threshold to use for filtering.\n",
    "    \"\"\"\n",
    "    assert boxes.shape[0] > 0\n",
    "    if boxes.dtype.kind != \"f\":\n",
    "        boxes = boxes.astype(np.float32)\n",
    "\n",
    "    # Compute box areas\n",
    "    y1 = boxes[:, 0]\n",
    "    x1 = boxes[:, 1]\n",
    "    y2 = boxes[:, 2]\n",
    "    x2 = boxes[:, 3]\n",
    "    area = (y2 - y1) * (x2 - x1)\n",
    "\n",
    "    # Get indicies of boxes sorted by scores (highest first)\n",
    "    ixs = scores.argsort()[::-1]\n",
    "\n",
    "    pick = []\n",
    "    while len(ixs) > 0:\n",
    "        # Pick top box and add its index to the list\n",
    "        i = ixs[0]\n",
    "        pick.append(i)\n",
    "        # Compute IoU of the picked box with the rest\n",
    "        iou = compute_iou(boxes[i], boxes[ixs[1:]], area[i], area[ixs[1:]])\n",
    "        # Identify boxes with IoU over the threshold. This\n",
    "        # returns indicies into ixs[1:], so add 1 to get\n",
    "        # indicies into ixs.\n",
    "        remove_ixs = np.where(iou > threshold)[0] + 1\n",
    "        # Remove indicies of the picked and overlapped boxes.\n",
    "        ixs = np.delete(ixs, remove_ixs)\n",
    "        ixs = np.delete(ixs, 0)\n",
    "    return np.array(pick, dtype=np.int32)\n",
    "\n",
    "\n",
    "def apply_box_deltas(boxes, deltas):\n",
    "    \"\"\"Applies the given deltas to the given boxes.\n",
    "    boxes: [N, (y1, x1, y2, x2)]. Note that (y2, x2) is outside the box.\n",
    "    deltas: [N, (dy, dx, log(dh), log(dw))]\n",
    "    \"\"\"\n",
    "    boxes = boxes.astype(np.float32)\n",
    "    # Convert to y, x, h, w\n",
    "    height = boxes[:, 2] - boxes[:, 0]\n",
    "    width = boxes[:, 3] - boxes[:, 1]\n",
    "    center_y = boxes[:, 0] + 0.5 * height\n",
    "    center_x = boxes[:, 1] + 0.5 * width\n",
    "    # Apply deltas\n",
    "    center_y += deltas[:, 0] * height\n",
    "    center_x += deltas[:, 1] * width\n",
    "    height *= np.exp(deltas[:, 2])\n",
    "    width *= np.exp(deltas[:, 3])\n",
    "    # Convert back to y1, x1, y2, x2\n",
    "    y1 = center_y - 0.5 * height\n",
    "    x1 = center_x - 0.5 * width\n",
    "    y2 = y1 + height\n",
    "    x2 = x1 + width\n",
    "    return np.stack([y1, x1, y2, x2], axis=1)\n",
    "\n",
    "\n",
    "def box_refinement_graph(box, gt_box):\n",
    "    \"\"\"Compute refinement needed to transform box to gt_box.\n",
    "    box and gt_box are [N, (y1, x1, y2, x2)]\n",
    "    \"\"\"\n",
    "    box = tf.cast(box, tf.float32)\n",
    "    gt_box = tf.cast(gt_box, tf.float32)\n",
    "\n",
    "    height = box[:, 2] - box[:, 0]\n",
    "    width = box[:, 3] - box[:, 1]\n",
    "    center_y = box[:, 0] + 0.5 * height\n",
    "    center_x = box[:, 1] + 0.5 * width\n",
    "\n",
    "    gt_height = gt_box[:, 2] - gt_box[:, 0]\n",
    "    gt_width = gt_box[:, 3] - gt_box[:, 1]\n",
    "    gt_center_y = gt_box[:, 0] + 0.5 * gt_height\n",
    "    gt_center_x = gt_box[:, 1] + 0.5 * gt_width\n",
    "\n",
    "    dy = (gt_center_y - center_y) / height\n",
    "    dx = (gt_center_x - center_x) / width\n",
    "    dh = tf.log(gt_height / height)\n",
    "    dw = tf.log(gt_width / width)\n",
    "\n",
    "    result = tf.stack([dy, dx, dh, dw], axis=1)\n",
    "    return result\n",
    "\n",
    "\n",
    "def box_refinement(box, gt_box):\n",
    "    \"\"\"Compute refinement needed to transform box to gt_box.\n",
    "    box and gt_box are [N, (y1, x1, y2, x2)]. (y2, x2) is\n",
    "    assumed to be outside the box.\n",
    "    \"\"\"\n",
    "    box = box.astype(np.float32)\n",
    "    gt_box = gt_box.astype(np.float32)\n",
    "\n",
    "    height = box[:, 2] - box[:, 0]\n",
    "    width = box[:, 3] - box[:, 1]\n",
    "    center_y = box[:, 0] + 0.5 * height\n",
    "    center_x = box[:, 1] + 0.5 * width\n",
    "\n",
    "    gt_height = gt_box[:, 2] - gt_box[:, 0]\n",
    "    gt_width = gt_box[:, 3] - gt_box[:, 1]\n",
    "    gt_center_y = gt_box[:, 0] + 0.5 * gt_height\n",
    "    gt_center_x = gt_box[:, 1] + 0.5 * gt_width\n",
    "\n",
    "    dy = (gt_center_y - center_y) / height\n",
    "    dx = (gt_center_x - center_x) / width\n",
    "    dh = np.log(gt_height / height)\n",
    "    dw = np.log(gt_width / width)\n",
    "\n",
    "    return np.stack([dy, dx, dh, dw], axis=1)"
   ]
  },
  {
   "cell_type": "markdown",
   "id": "917cda93",
   "metadata": {
    "papermill": {
     "duration": 0.007167,
     "end_time": "2023-07-29T10:49:58.821242",
     "exception": false,
     "start_time": "2023-07-29T10:49:58.814075",
     "status": "completed"
    },
    "tags": []
   },
   "source": [
    "# WBF"
   ]
  },
  {
   "cell_type": "code",
   "execution_count": 12,
   "id": "f6ac2e19",
   "metadata": {
    "execution": {
     "iopub.execute_input": "2023-07-29T10:49:58.838184Z",
     "iopub.status.busy": "2023-07-29T10:49:58.837278Z",
     "iopub.status.idle": "2023-07-29T10:49:59.464330Z",
     "shell.execute_reply": "2023-07-29T10:49:59.463362Z"
    },
    "papermill": {
     "duration": 0.638688,
     "end_time": "2023-07-29T10:49:59.466889",
     "exception": false,
     "start_time": "2023-07-29T10:49:58.828201",
     "status": "completed"
    },
    "tags": []
   },
   "outputs": [],
   "source": [
    "import warnings\n",
    "import numpy as np\n",
    "from numba import jit\n",
    "\n",
    "@jit(nopython=True)\n",
    "def bb_intersection_over_union(A, B) -> float:\n",
    "    xA = max(A[0], B[0])\n",
    "    yA = max(A[1], B[1])\n",
    "    xB = min(A[2], B[2])\n",
    "    yB = min(A[3], B[3])\n",
    "\n",
    "    # compute the area of intersection rectangle\n",
    "    interArea = max(0, xB - xA) * max(0, yB - yA)\n",
    "\n",
    "    if interArea == 0:\n",
    "        return 0.0\n",
    "\n",
    "    # compute the area of both the prediction and ground-truth rectangles\n",
    "    boxAArea = (A[2] - A[0]) * (A[3] - A[1])\n",
    "    boxBArea = (B[2] - B[0]) * (B[3] - B[1])\n",
    "\n",
    "    iou = interArea / float(boxAArea + boxBArea - interArea)\n",
    "    return iou\n",
    "\n",
    "#@jit(nopython=True)\n",
    "def get_weighted_mask(masks, scores, inmodels, conf_type):\n",
    "    mask = np.zeros(masks[0].shape, dtype=np.float32)\n",
    "    conf = 0\n",
    "    conf_list = []\n",
    "    for m, s, im in zip(masks, scores, inmodels):\n",
    "        if conf_type == 'model_weight2':\n",
    "            mask += s * im * m\n",
    "            conf += s * im\n",
    "        else:\n",
    "            mask += s * m\n",
    "            conf += s\n",
    "        conf_list.append(s)\n",
    "    score = np.max(conf_list)\n",
    "    mask = mask / conf\n",
    "    return mask, score, conf_list\n",
    "\n",
    "def get_weighted_box(boxes, scores, inmodels, conf_type):\n",
    "    box = np.zeros(4, dtype=np.float32)\n",
    "    conf = 0\n",
    "    conf_list = []\n",
    "    for b, s, im in zip(boxes, scores, inmodels):\n",
    "        if conf_type == 'model_weight2':\n",
    "            box += s * im * b\n",
    "            conf += s * im\n",
    "        else:\n",
    "            box += s * b\n",
    "            conf += s\n",
    "        conf_list.append(s)\n",
    "    score = np.max(conf_list)\n",
    "    box = box / conf\n",
    "    return box, score\n",
    "\n",
    "\n",
    "def find_matching_box(boxes_list, new_box, match_iou):\n",
    "    best_iou = match_iou\n",
    "    best_index = -1\n",
    "    for i in range(len(boxes_list)):\n",
    "        box = boxes_list[i]\n",
    "        iou = bb_intersection_over_union(box, new_box)\n",
    "        if iou > best_iou:\n",
    "            best_index = i\n",
    "            best_iou = iou\n",
    "\n",
    "    return best_index, best_iou\n",
    "\n",
    "def weighted_masks_fusion(masks, boxes, scores, models, iou_thr=0.7, skip_mask_thr=0.0, \n",
    "                        conf_type='max_weight', soft_weight=5, thresh_type=None, model_weights=1,\n",
    "                        num_thresh=4, num_models=5):\n",
    "    masks = masks[scores > skip_mask_thr]\n",
    "    boxes = boxes[scores > skip_mask_thr]\n",
    "    models = models[scores > skip_mask_thr]\n",
    "    scores = scores[scores > skip_mask_thr]\n",
    "    \n",
    "    new_masks = []\n",
    "    new_boxes = []\n",
    "    new_scores = []\n",
    "    inmodels = []\n",
    "    weighted_boxes = []\n",
    "    weighted_scores = []\n",
    "    # Clusterize boxes\n",
    "    for i in range(len(masks)):\n",
    "            \n",
    "        index, best_iou = find_matching_box(weighted_boxes, boxes[i], iou_thr)\n",
    "        if index != -1:\n",
    "            new_masks[index].append(masks[i])\n",
    "            new_boxes[index].append(boxes[i])\n",
    "            new_scores[index].append(scores[i])\n",
    "            inmodels[index].append(models[i])\n",
    "            weighted_boxes[index], weighted_scores[index] = get_weighted_box(new_boxes[index], new_scores[index], inmodels[index], conf_type)\n",
    "        else:\n",
    "            new_masks.append([masks[i]])\n",
    "            new_boxes.append([boxes[i].copy()])\n",
    "            new_scores.append([scores[i].copy()])\n",
    "            inmodels.append([models[i]])\n",
    "            weighted_boxes.append(boxes[i].copy())\n",
    "            weighted_scores.append(scores[i].copy())\n",
    "            \n",
    "    ens_masks = []\n",
    "    ens_scores = []\n",
    "    ens_boxes = []\n",
    "    for nmasks, nscores, wbox, inms in zip(new_masks, new_scores, weighted_boxes, inmodels):\n",
    "        mask, score, conf_list = get_weighted_mask(nmasks, nscores, inms, conf_type)\n",
    "        if thresh_type == 'num_thresh':\n",
    "            if len(conf_list) >= num_thresh:\n",
    "                ens_masks.append(mask)\n",
    "                ens_boxes.append(wbox)\n",
    "            else:\n",
    "                continue\n",
    "        else:\n",
    "            ens_masks.append(mask)\n",
    "            ens_boxes.append(wbox)\n",
    "\n",
    "        if conf_type =='max_weight':\n",
    "            ens_scores.append(score * min(len(conf_list), num_models) / num_models)\n",
    "        elif conf_type == 'max':\n",
    "            ens_scores.append(score)\n",
    "        elif conf_type == 'soft_weight':\n",
    "            ens_scores.append(score * (min(len(conf_list), num_models) + soft_weight) / (soft_weight + num_models))\n",
    "        elif conf_type == 'model_weight' or conf_type == 'model_weight2':\n",
    "            this_weights = [model_weights[i] for i in inms]\n",
    "            ens_scores.append(score * (min(np.sum(this_weights), np.sum(model_weights)) + soft_weight) / (soft_weight + np.sum(model_weights)))\n",
    "\n",
    "    return ens_masks, ens_scores, ens_boxes"
   ]
  },
  {
   "cell_type": "code",
   "execution_count": 13,
   "id": "1798dd7e",
   "metadata": {
    "execution": {
     "iopub.execute_input": "2023-07-29T10:49:59.483517Z",
     "iopub.status.busy": "2023-07-29T10:49:59.482682Z",
     "iopub.status.idle": "2023-07-29T10:49:59.489216Z",
     "shell.execute_reply": "2023-07-29T10:49:59.488209Z"
    },
    "papermill": {
     "duration": 0.017249,
     "end_time": "2023-07-29T10:49:59.491398",
     "exception": false,
     "start_time": "2023-07-29T10:49:59.474149",
     "status": "completed"
    },
    "tags": []
   },
   "outputs": [],
   "source": [
    "def WTF(masks, boxes, scores, models):\n",
    "    MODEL_WEIGHTS = [[1] * 4, [2] * 5 + [1] * 5, [2] * 5 + [1] * 5]\n",
    "    # ensemble models using WMF. WMF is WBF applied to mask ensemble.\n",
    "    pred_masks, pred_scores, pred_boxes = weighted_masks_fusion(masks, boxes, scores, models,\n",
    "                                               skip_mask_thr=0.001,\n",
    "                                               conf_type='max_weight',\n",
    "                                               soft_weight=np.sum(MODEL_WEIGHTS[0]),\n",
    "                                               num_models=5,\n",
    "                                               model_weights = MODEL_WEIGHTS[0])\n",
    "    \n",
    "    return pred_masks, pred_scores, pred_boxes"
   ]
  },
  {
   "cell_type": "code",
   "execution_count": 14,
   "id": "9c6d2de4",
   "metadata": {
    "execution": {
     "iopub.execute_input": "2023-07-29T10:49:59.506916Z",
     "iopub.status.busy": "2023-07-29T10:49:59.506641Z",
     "iopub.status.idle": "2023-07-29T10:49:59.511658Z",
     "shell.execute_reply": "2023-07-29T10:49:59.510756Z"
    },
    "papermill": {
     "duration": 0.015015,
     "end_time": "2023-07-29T10:49:59.513711",
     "exception": false,
     "start_time": "2023-07-29T10:49:59.498696",
     "status": "completed"
    },
    "tags": []
   },
   "outputs": [],
   "source": [
    "def NMS(pred_masks, pred_scores, pred_boxes ):\n",
    "    \n",
    "    keep_ind = non_max_suppression(np.array(pred_boxes), np.array(pred_scores), 0.6)\n",
    "\n",
    "    final_masks = np.array(pred_masks)[keep_ind,:, :]\n",
    "    final_scores = np.array(pred_scores)[keep_ind]\n",
    "    \n",
    "    return final_masks, final_scores"
   ]
  },
  {
   "cell_type": "code",
   "execution_count": 15,
   "id": "ba8a9451",
   "metadata": {
    "execution": {
     "iopub.execute_input": "2023-07-29T10:49:59.529111Z",
     "iopub.status.busy": "2023-07-29T10:49:59.528849Z",
     "iopub.status.idle": "2023-07-29T10:49:59.540906Z",
     "shell.execute_reply": "2023-07-29T10:49:59.540024Z"
    },
    "papermill": {
     "duration": 0.021909,
     "end_time": "2023-07-29T10:49:59.542873",
     "exception": false,
     "start_time": "2023-07-29T10:49:59.520964",
     "status": "completed"
    },
    "tags": []
   },
   "outputs": [],
   "source": [
    "def get_result(results,wbf=False):\n",
    "    \n",
    "    masks = []\n",
    "    scores = []\n",
    "    boxes = []\n",
    "    labels = []\n",
    "    models = []\n",
    "\n",
    "    for i, result1 in enumerate(results):\n",
    "\n",
    "        scores_1 = result1.pred_instances.scores.cpu().numpy()\n",
    "        bboxes_1 = result1.pred_instances.bboxes.cpu().numpy()/513\n",
    "        masks_1  = result1.pred_instances.masks.cpu().numpy()\n",
    "        labels_1 = result1.pred_instances.labels.cpu().numpy()\n",
    "        if i == 0:\n",
    "            models = [0] * len(scores_1)\n",
    "        else:\n",
    "            models += [i] * len(scores_1)\n",
    "        boxes.append(bboxes_1)\n",
    "        scores.append(scores_1)\n",
    "        masks.append(masks_1)\n",
    "        labels.append(labels_1)\n",
    "    \n",
    "    masks = np.concatenate(masks, axis=0)\n",
    "    scores = np.concatenate(scores, axis=0)\n",
    "    boxes = np.concatenate(boxes, axis=0)\n",
    "    labels = np.concatenate(labels, axis=0)\n",
    "    \n",
    "    masks = np.array(masks)\n",
    "    scores = np.array(scores)\n",
    "    boxes = np.array(boxes)\n",
    "    labels = np.array(labels)\n",
    "    \n",
    "    \n",
    "    sort_idx = np.argsort(-scores)\n",
    "    masks = masks[sort_idx]\n",
    "    boxes = boxes[sort_idx]\n",
    "    models = np.array(models)[sort_idx]\n",
    "    scores = scores[sort_idx]\n",
    "    \n",
    "    print(\"len mask:\", len(masks))\n",
    "    print(\"len boxes:\", len(boxes))\n",
    "    print(\"len scores:\", len(scores))\n",
    "    print(\"len models:\", len(models))\n",
    "    \n",
    "    pred_masks, pred_scores, pred_boxes = WTF(masks, boxes, scores, models)\n",
    "    final_masks, final_scores = NMS(pred_masks, pred_scores, pred_boxes )\n",
    "\n",
    "    return final_masks, final_scores"
   ]
  },
  {
   "cell_type": "code",
   "execution_count": 16,
   "id": "815c3496",
   "metadata": {
    "execution": {
     "iopub.execute_input": "2023-07-29T10:49:59.559058Z",
     "iopub.status.busy": "2023-07-29T10:49:59.558017Z",
     "iopub.status.idle": "2023-07-29T10:49:59.563769Z",
     "shell.execute_reply": "2023-07-29T10:49:59.562951Z"
    },
    "papermill": {
     "duration": 0.016038,
     "end_time": "2023-07-29T10:49:59.565824",
     "exception": false,
     "start_time": "2023-07-29T10:49:59.549786",
     "status": "completed"
    },
    "tags": []
   },
   "outputs": [],
   "source": [
    "def get_mask(model_list,img):\n",
    "    \n",
    "    results = []\n",
    "    for model in model_list:\n",
    "        result_1 = inference_detector(model, imgs=img)\n",
    "        results.append(result_1)\n",
    "    \n",
    "    final_masks, final_scores = get_result(results)\n",
    "\n",
    "    \n",
    "    return final_masks, final_scores"
   ]
  },
  {
   "cell_type": "code",
   "execution_count": 17,
   "id": "e4c45766",
   "metadata": {
    "execution": {
     "iopub.execute_input": "2023-07-29T10:49:59.581589Z",
     "iopub.status.busy": "2023-07-29T10:49:59.581317Z",
     "iopub.status.idle": "2023-07-29T10:49:59.597105Z",
     "shell.execute_reply": "2023-07-29T10:49:59.596261Z"
    },
    "papermill": {
     "duration": 0.026612,
     "end_time": "2023-07-29T10:49:59.599411",
     "exception": false,
     "start_time": "2023-07-29T10:49:59.572799",
     "status": "completed"
    },
    "tags": []
   },
   "outputs": [],
   "source": [
    "def load_model():\n",
    "    base_cfg_path = \"/kaggle/input/hubmap-best-weight/weight/base/fold1/custom_config.py\"\n",
    "    base_fold_1 = \"/kaggle/input/hubmap-best-weight/weight/base/fold1/best_coco_segm_mAP.pth\"\n",
    "    base_fold_2 = \"/kaggle/input/hubmap-best-weight/weight/base/fold2/best_coco_segm_mAP.pth\"\n",
    "    base_fold_3 = \"/kaggle/input/hubmap-best-weight/weight/base/fold3/best_coco_segm_mAP.pth\"\n",
    "    base_fold_4 = \"/kaggle/input/hubmap-best-weight/weight/base/fold4/best_coco_segm_mAP.pth\"\n",
    "    base_fold_5 = \"/kaggle/input/hubmap-best-weight/weight/base/fold5/best_coco_segm_mAP.pth\"\n",
    "\n",
    "    pseudo_cfg_path = \"/kaggle/input/hubmap-best-weight/weight/pseudo/fold1/custom_config.py\"\n",
    "    pseudo_fold_1 = \"/kaggle/input/hubmap-best-weight/weight/pseudo/fold1/best_coco_segm_mAP.pth\"\n",
    "    pseudo_fold_2 = \"/kaggle/input/hubmap-best-weight/weight/pseudo/fold2/best_coco_segm_mAP.pth\"\n",
    "    pseudo_fold_3 = \"/kaggle/input/hubmap-best-weight/weight/pseudo/fold3/best_coco_segm_mAP.pth\"\n",
    "    pseudo_fold_4 = \"/kaggle/input/hubmap-best-weight/weight/pseudo/fold4/best_coco_segm_mAP.pth\"\n",
    "    pseudo_fold_5 = \"/kaggle/input/hubmap-best-weight/weight/pseudo/fold5/best_coco_segm_mAP.pth\"\n",
    "    pseudo_split  = \"/kaggle/input/hubmap-best-weight/weight/pseudo/split/best_coco_segm_mAP.pth\"\n",
    "\n",
    "    tmp_cfg_path = \"/kaggle/input/hubmap-best-weight/weight/tmp/fold1/custom_config.py\"\n",
    "    tmp_fold_1 = \"/kaggle/input/hubmap-best-weight/weight/tmp/fold1/best_coco_segm_mAP.pth\"\n",
    "    tmp_fold_2 = \"/kaggle/input/hubmap-best-weight/weight/tmp/fold2/best_coco_segm_mAP.pth\"\n",
    "    tmp_fold_3 = \"/kaggle/input/hubmap-best-weight/weight/tmp/fold3/best_coco_segm_mAP.pth\"\n",
    "    tmp_fold_4 = \"/kaggle/input/hubmap-best-weight/weight/tmp/fold4/best_coco_segm_mAP.pth\"\n",
    "    tmp_fold_5 = \"/kaggle/input/hubmap-best-weight/weight/tmp/fold5/best_coco_segm_mAP.pth\"\n",
    "    tmp_split  = \"/kaggle/input/hubmap-best-weight/weight/tmp/split/best_coco_segm_mAP.pth\"\n",
    "\n",
    "    aug_cfg_path = \"/kaggle/input/hubmap-best-weight/weight/tmp_aug/fold1/custom_config.py\"\n",
    "    aug_fold_1 = \"/kaggle/input/hubmap-best-weight/weight/tmp_aug/fold1/best_coco_segm_mAP.pth\"\n",
    "    aug_fold_2 = \"/kaggle/input/hubmap-best-weight/weight/tmp_aug/fold2/best_coco_segm_mAP.pth\"\n",
    "    aug_fold_3 = \"/kaggle/input/hubmap-best-weight/weight/tmp_aug/fold3/best_coco_segm_mAP.pth\"\n",
    "    aug_fold_4 = \"/kaggle/input/hubmap-best-weight/weight/tmp_aug/fold4/best_coco_segm_mAP.pth\"\n",
    "    aug_fold_5 = \"/kaggle/input/hubmap-best-weight/weight/tmp_aug/fold5/best_coco_segm_mAP.pth\"\n",
    "    aug_split  = \"/kaggle/input/hubmap-best-weight/weight/tmp_aug/split/best_coco_segm_mAP.pth\"\n",
    "\n",
    "    hrnet_cfg_path = \"/kaggle/input/hubmap-best-weight/weight/hrnet/fold1/custom_config.py\"\n",
    "    hrnet_fold_1 = \"/kaggle/input/hubmap-best-weight/weight/hrnet/fold1/best_coco_segm_mAP.pth\"\n",
    "    \n",
    "    base_cfg = Config.fromfile(base_cfg_path)\n",
    "    base_cfg.model.test_cfg.rcnn.mask_thr_binary = 0.25\n",
    "    base_cfg.model.test_cfg.rcnn.score_thr = 0.01\n",
    "\n",
    "    pseudo_cfg = Config.fromfile(pseudo_cfg_path)\n",
    "    pseudo_cfg.model.test_cfg.rcnn.mask_thr_binary = 0.25\n",
    "    pseudo_cfg.model.test_cfg.rcnn.score_thr = 0.01\n",
    "\n",
    "    tmp_cfg = Config.fromfile(tmp_cfg_path)\n",
    "    tmp_cfg.model.test_cfg.rcnn.mask_thr_binary = 0.25\n",
    "    tmp_cfg.model.test_cfg.rcnn.score_thr = 0.01\n",
    "\n",
    "    aug_cfg = Config.fromfile(aug_cfg_path)\n",
    "    aug_cfg.model.test_cfg.rcnn.mask_thr_binary = 0.25\n",
    "    aug_cfg.model.test_cfg.rcnn.score_thr = 0.01\n",
    "\n",
    "    hrnet_cfg = Config.fromfile(hrnet_cfg_path)\n",
    "    hrnet_cfg.model.test_cfg.rcnn.mask_thr_binary = 0.25\n",
    "    hrnet_cfg.model.test_cfg.rcnn.score_thr = 0.01\n",
    "\n",
    "    model_1 = init_detector(base_cfg, checkpoint=base_fold_1, device=\"cuda:0\")\n",
    "#     model_2 = init_detector(base_cfg, checkpoint=base_fold_2, device=\"cuda:0\")\n",
    "    #model_3 = init_detector(base_cfg, checkpoint=base_fold_3, device=\"cuda:0\")\n",
    "#     model_4 = init_detector(base_cfg, checkpoint=base_fold_4, device=\"cuda:0\")\n",
    "#     model_5 = init_detector(base_cfg, checkpoint=base_fold_5, device=\"cuda:0\")\n",
    "\n",
    "    model_6  = init_detector(pseudo_cfg, checkpoint=pseudo_fold_1, device=\"cuda:0\")\n",
    "#     model_7  = init_detector(pseudo_cfg, checkpoint=pseudo_fold_2, device=\"cuda:0\")\n",
    "    #model_8  = init_detector(pseudo_cfg, checkpoint=pseudo_fold_3, device=\"cuda:0\")\n",
    "#     model_9  = init_detector(pseudo_cfg, checkpoint=pseudo_fold_4, device=\"cuda:0\")\n",
    "#     model_10 = init_detector(pseudo_cfg, checkpoint=pseudo_fold_5, device=\"cuda:0\")\n",
    "    model_11 = init_detector(pseudo_cfg, checkpoint=pseudo_split, device=\"cuda:0\")\n",
    "\n",
    "    model_12 = init_detector(tmp_cfg, checkpoint=tmp_fold_1, device=\"cuda:0\")\n",
    "#     model_13 = init_detector(tmp_cfg, checkpoint=tmp_fold_2, device=\"cuda:0\")\n",
    "    #model_14 = init_detector(tmp_cfg, checkpoint=tmp_fold_3, device=\"cuda:0\")\n",
    "#     model_15 = init_detector(tmp_cfg, checkpoint=tmp_fold_4, device=\"cuda:0\")\n",
    "#     model_16 = init_detector(tmp_cfg, checkpoint=tmp_fold_5, device=\"cuda:0\")\n",
    "    model_17 = init_detector(tmp_cfg, checkpoint=tmp_split, device=\"cuda:0\")\n",
    "\n",
    "    model_18 = init_detector(aug_cfg, checkpoint=aug_fold_1, device=\"cuda:0\")\n",
    "#     model_19 = init_detector(aug_cfg, checkpoint=aug_fold_2, device=\"cuda:0\")\n",
    "    #model_20 = init_detector(aug_cfg, checkpoint=aug_fold_3, device=\"cuda:0\")\n",
    "#     model_21 = init_detector(aug_cfg, checkpoint=aug_fold_4, device=\"cuda:0\")\n",
    "#     model_22 = init_detector(aug_cfg, checkpoint=aug_fold_5, device=\"cuda:0\")\n",
    "    model_23 = init_detector(aug_cfg, checkpoint=aug_split, device=\"cuda:0\")\n",
    "\n",
    "    model_24 = init_detector(hrnet_cfg, checkpoint=hrnet_fold_1, device=\"cuda:0\")\n",
    "    \n",
    "    model_list = [\n",
    "                model_1, \n",
    "                #         model_2,\n",
    "                #model_3,\n",
    "                #         model_4, model_5,\n",
    "\n",
    "                model_6,\n",
    "                #         model_7,\n",
    "               # model_8,\n",
    "                #         model_9, model_10,\n",
    "                model_11,\n",
    "\n",
    "                model_12,\n",
    "                #         model_13,\n",
    "               # model_14,\n",
    "                #         model_15, model_16,\n",
    "                model_17,\n",
    "\n",
    "                model_18,\n",
    "                #         model_19,\n",
    "               # model_20,\n",
    "                #         model_21, model_22,\n",
    "                model_23,\n",
    "                model_24\n",
    "            ]\n",
    "    \n",
    "    return model_list"
   ]
  },
  {
   "cell_type": "code",
   "execution_count": 18,
   "id": "5ab41fdc",
   "metadata": {
    "execution": {
     "iopub.execute_input": "2023-07-29T10:49:59.614965Z",
     "iopub.status.busy": "2023-07-29T10:49:59.614358Z",
     "iopub.status.idle": "2023-07-29T10:50:30.864279Z",
     "shell.execute_reply": "2023-07-29T10:50:30.863280Z"
    },
    "papermill": {
     "duration": 31.260296,
     "end_time": "2023-07-29T10:50:30.866719",
     "exception": false,
     "start_time": "2023-07-29T10:49:59.606423",
     "status": "completed"
    },
    "tags": []
   },
   "outputs": [
    {
     "name": "stdout",
     "output_type": "stream",
     "text": [
      "Loads checkpoint by local backend from path: /kaggle/input/hubmap-best-weight/weight/base/fold1/best_coco_segm_mAP.pth\n",
      "Loads checkpoint by local backend from path: /kaggle/input/hubmap-best-weight/weight/pseudo/fold1/best_coco_segm_mAP.pth\n",
      "Loads checkpoint by local backend from path: /kaggle/input/hubmap-best-weight/weight/pseudo/split/best_coco_segm_mAP.pth\n",
      "Loads checkpoint by local backend from path: /kaggle/input/hubmap-best-weight/weight/tmp/fold1/best_coco_segm_mAP.pth\n",
      "Loads checkpoint by local backend from path: /kaggle/input/hubmap-best-weight/weight/tmp/split/best_coco_segm_mAP.pth\n",
      "Loads checkpoint by local backend from path: /kaggle/input/hubmap-best-weight/weight/tmp_aug/fold1/best_coco_segm_mAP.pth\n",
      "Loads checkpoint by local backend from path: /kaggle/input/hubmap-best-weight/weight/tmp_aug/split/best_coco_segm_mAP.pth\n",
      "Loads checkpoint by local backend from path: /kaggle/input/hubmap-best-weight/weight/hrnet/fold1/best_coco_segm_mAP.pth\n"
     ]
    }
   ],
   "source": [
    "model_list = load_model()"
   ]
  },
  {
   "cell_type": "code",
   "execution_count": 19,
   "id": "9753baf9",
   "metadata": {
    "execution": {
     "iopub.execute_input": "2023-07-29T10:50:30.883968Z",
     "iopub.status.busy": "2023-07-29T10:50:30.883671Z",
     "iopub.status.idle": "2023-07-29T10:50:38.107953Z",
     "shell.execute_reply": "2023-07-29T10:50:38.106981Z"
    },
    "papermill": {
     "duration": 7.235635,
     "end_time": "2023-07-29T10:50:38.110448",
     "exception": false,
     "start_time": "2023-07-29T10:50:30.874813",
     "status": "completed"
    },
    "tags": []
   },
   "outputs": [
    {
     "name": "stderr",
     "output_type": "stream",
     "text": [
      "/opt/conda/lib/python3.10/site-packages/mmdet/models/roi_heads/mask_heads/fcn_mask_head.py:339: UserWarning: To copy construct from a tensor, it is recommended to use sourceTensor.clone().detach() or sourceTensor.clone().detach().requires_grad_(True), rather than tensor.new_tensor(sourceTensor).\n",
      "  mask_preds = bboxes.new_tensor(mask_preds)\n"
     ]
    },
    {
     "name": "stdout",
     "output_type": "stream",
     "text": [
      "len mask: 750\n",
      "len boxes: 750\n",
      "len scores: 750\n",
      "len models: 750\n"
     ]
    },
    {
     "name": "stderr",
     "output_type": "stream",
     "text": [
      "/tmp/ipykernel_24/467368416.py:11: DeprecationWarning: `np.bool` is a deprecated alias for the builtin `bool`. To silence this warning, use `bool` by itself. Doing this will not modify any behavior and is safe. If you specifically wanted the numpy scalar type, use `np.bool_` here.\n",
      "Deprecated in NumPy 1.20; for more details and guidance: https://numpy.org/devdocs/release/1.20.0-notes.html#deprecations\n",
      "  if mask.dtype != np.bool:\n"
     ]
    }
   ],
   "source": [
    "all_rows = []\n",
    "results_csv = pd.DataFrame([], columns=[\"id\",\"height\",\"width\",\"prediction_string\"])\n",
    "results_csv.set_index(\"id\")\n",
    "\n",
    "for dirname, _, filenames in os.walk('/kaggle/input/hubmap-hacking-the-human-vasculature/test'):\n",
    "    \n",
    "    for filename in filenames:\n",
    "        \n",
    "        img = mmcv.imread(os.path.join(dirname, filename))\n",
    "        width, height, _ = img.shape\n",
    "        \n",
    "        row = dict()\n",
    "        row[\"id\"] = filename[:-4]\n",
    "        row[\"height\"] = height\n",
    "        row[\"width\"] = width\n",
    "        row[\"prediction_string\"] = \"\"\n",
    "\n",
    "        mask,conf = get_mask(model_list, img)\n",
    "                    \n",
    "        for i in range(len(mask)):\n",
    "            sliceImage = mask[i]\n",
    "            sliceImage = np.where(sliceImage > 0.5, 1, 0)\n",
    "            sliceImage = sliceImage*255\n",
    "            \n",
    "            kernel = np.ones(shape=(3, 3), dtype=np.uint8)\n",
    "            sliceImage = cv2.dilate(sliceImage.astype(np.uint8), kernel, 4)\n",
    "        \n",
    "            coded_len = encode_binary_mask(sliceImage.astype(np.bool_)).decode('utf-8')\n",
    "            row[\"prediction_string\"] += '0 ' + str(conf[i])+' '+ coded_len+' '\n",
    "\n",
    "        \n",
    "        new_row = pd.DataFrame(row, index=[0])\n",
    "        results_csv = pd.concat([new_row, results_csv.loc[:]]).reset_index(drop=True)\n",
    "\n",
    "results_csv.to_csv(\"submission.csv\", index=False)"
   ]
  },
  {
   "cell_type": "code",
   "execution_count": 20,
   "id": "fe6179e2",
   "metadata": {
    "execution": {
     "iopub.execute_input": "2023-07-29T10:50:38.129444Z",
     "iopub.status.busy": "2023-07-29T10:50:38.127717Z",
     "iopub.status.idle": "2023-07-29T10:50:38.142571Z",
     "shell.execute_reply": "2023-07-29T10:50:38.141534Z"
    },
    "papermill": {
     "duration": 0.026626,
     "end_time": "2023-07-29T10:50:38.145283",
     "exception": false,
     "start_time": "2023-07-29T10:50:38.118657",
     "status": "completed"
    },
    "tags": []
   },
   "outputs": [
    {
     "data": {
      "text/html": [
       "<div>\n",
       "<style scoped>\n",
       "    .dataframe tbody tr th:only-of-type {\n",
       "        vertical-align: middle;\n",
       "    }\n",
       "\n",
       "    .dataframe tbody tr th {\n",
       "        vertical-align: top;\n",
       "    }\n",
       "\n",
       "    .dataframe thead th {\n",
       "        text-align: right;\n",
       "    }\n",
       "</style>\n",
       "<table border=\"1\" class=\"dataframe\">\n",
       "  <thead>\n",
       "    <tr style=\"text-align: right;\">\n",
       "      <th></th>\n",
       "      <th>id</th>\n",
       "      <th>height</th>\n",
       "      <th>width</th>\n",
       "      <th>prediction_string</th>\n",
       "    </tr>\n",
       "  </thead>\n",
       "  <tbody>\n",
       "    <tr>\n",
       "      <th>0</th>\n",
       "      <td>72e40acccadf</td>\n",
       "      <td>512</td>\n",
       "      <td>512</td>\n",
       "      <td>0 0.9941443800926208 eNrLj8sySTCIs7fysHQ38Dc0w...</td>\n",
       "    </tr>\n",
       "  </tbody>\n",
       "</table>\n",
       "</div>"
      ],
      "text/plain": [
       "             id height width  \\\n",
       "0  72e40acccadf    512   512   \n",
       "\n",
       "                                   prediction_string  \n",
       "0  0 0.9941443800926208 eNrLj8sySTCIs7fysHQ38Dc0w...  "
      ]
     },
     "execution_count": 20,
     "metadata": {},
     "output_type": "execute_result"
    }
   ],
   "source": [
    "results_csv"
   ]
  },
  {
   "cell_type": "code",
   "execution_count": null,
   "id": "3b475c44",
   "metadata": {
    "papermill": {
     "duration": 0.010628,
     "end_time": "2023-07-29T10:50:38.164612",
     "exception": false,
     "start_time": "2023-07-29T10:50:38.153984",
     "status": "completed"
    },
    "tags": []
   },
   "outputs": [],
   "source": []
  }
 ],
 "metadata": {
  "kernelspec": {
   "display_name": "Python 3",
   "language": "python",
   "name": "python3"
  },
  "language_info": {
   "codemirror_mode": {
    "name": "ipython",
    "version": 3
   },
   "file_extension": ".py",
   "mimetype": "text/x-python",
   "name": "python",
   "nbconvert_exporter": "python",
   "pygments_lexer": "ipython3",
   "version": "3.10.12"
  },
  "papermill": {
   "default_parameters": {},
   "duration": 284.863855,
   "end_time": "2023-07-29T10:50:41.648136",
   "environment_variables": {},
   "exception": null,
   "input_path": "__notebook__.ipynb",
   "output_path": "__notebook__.ipynb",
   "parameters": {},
   "start_time": "2023-07-29T10:45:56.784281",
   "version": "2.4.0"
  }
 },
 "nbformat": 4,
 "nbformat_minor": 5
}
